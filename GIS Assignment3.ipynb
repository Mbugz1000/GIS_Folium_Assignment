{
 "cells": [
  {
   "cell_type": "code",
   "execution_count": 43,
   "metadata": {},
   "outputs": [],
   "source": [
    "import ast\n",
    "import folium\n",
    "from folium import FeatureGroup, LayerControl, Map, Marker\n",
    "import matplotlib.pyplot as plt\n",
    "import numpy as np\n",
    "import pandas as pd"
   ]
  },
  {
   "cell_type": "code",
   "execution_count": 5,
   "metadata": {},
   "outputs": [],
   "source": [
    "dataPoints = pd.read_csv(\"bts for gis practicalsEdited.csv\")"
   ]
  },
  {
   "cell_type": "code",
   "execution_count": 10,
   "metadata": {},
   "outputs": [
    {
     "data": {
      "text/html": [
       "<div>\n",
       "<style scoped>\n",
       "    .dataframe tbody tr th:only-of-type {\n",
       "        vertical-align: middle;\n",
       "    }\n",
       "\n",
       "    .dataframe tbody tr th {\n",
       "        vertical-align: top;\n",
       "    }\n",
       "\n",
       "    .dataframe thead th {\n",
       "        text-align: right;\n",
       "    }\n",
       "</style>\n",
       "<table border=\"1\" class=\"dataframe\">\n",
       "  <thead>\n",
       "    <tr style=\"text-align: right;\">\n",
       "      <th></th>\n",
       "      <th>Unnamed: 0</th>\n",
       "      <th>Longitude</th>\n",
       "      <th>Latitude</th>\n",
       "      <th>BTSName</th>\n",
       "      <th>Classification</th>\n",
       "      <th>Technology</th>\n",
       "      <th>Long-Lat-Tech</th>\n",
       "    </tr>\n",
       "  </thead>\n",
       "  <tbody>\n",
       "    <tr>\n",
       "      <th>0</th>\n",
       "      <td>0</td>\n",
       "      <td>40.168942</td>\n",
       "      <td>-1.694245</td>\n",
       "      <td>Masalani</td>\n",
       "      <td>Rural</td>\n",
       "      <td>GSM</td>\n",
       "      <td>40.16894186-1.6942447919999999GSM</td>\n",
       "    </tr>\n",
       "    <tr>\n",
       "      <th>1</th>\n",
       "      <td>1</td>\n",
       "      <td>40.168942</td>\n",
       "      <td>-1.694245</td>\n",
       "      <td>Masalani</td>\n",
       "      <td>Urban</td>\n",
       "      <td>UMTS</td>\n",
       "      <td>40.16894186-1.6942447919999999UMTS</td>\n",
       "    </tr>\n",
       "    <tr>\n",
       "      <th>2</th>\n",
       "      <td>2</td>\n",
       "      <td>40.168942</td>\n",
       "      <td>-1.694245</td>\n",
       "      <td>Masalani</td>\n",
       "      <td>Rural</td>\n",
       "      <td>UMTS</td>\n",
       "      <td>40.16894186-1.6942447919999999UMTS</td>\n",
       "    </tr>\n",
       "    <tr>\n",
       "      <th>3</th>\n",
       "      <td>3</td>\n",
       "      <td>40.270139</td>\n",
       "      <td>-1.643889</td>\n",
       "      <td>Masalani Quarry</td>\n",
       "      <td>Rural</td>\n",
       "      <td>GSM</td>\n",
       "      <td>40.27013889-1.643888889GSM</td>\n",
       "    </tr>\n",
       "    <tr>\n",
       "      <th>4</th>\n",
       "      <td>4</td>\n",
       "      <td>40.538167</td>\n",
       "      <td>-1.568011</td>\n",
       "      <td>Ijara</td>\n",
       "      <td>Rural</td>\n",
       "      <td>GSM</td>\n",
       "      <td>40.53816667-1.568011111GSM</td>\n",
       "    </tr>\n",
       "  </tbody>\n",
       "</table>\n",
       "</div>"
      ],
      "text/plain": [
       "   Unnamed: 0  Longitude  Latitude          BTSName Classification Technology  \\\n",
       "0           0  40.168942 -1.694245         Masalani          Rural        GSM   \n",
       "1           1  40.168942 -1.694245         Masalani          Urban       UMTS   \n",
       "2           2  40.168942 -1.694245         Masalani          Rural       UMTS   \n",
       "3           3  40.270139 -1.643889  Masalani Quarry          Rural        GSM   \n",
       "4           4  40.538167 -1.568011            Ijara          Rural        GSM   \n",
       "\n",
       "                        Long-Lat-Tech  \n",
       "0   40.16894186-1.6942447919999999GSM  \n",
       "1  40.16894186-1.6942447919999999UMTS  \n",
       "2  40.16894186-1.6942447919999999UMTS  \n",
       "3          40.27013889-1.643888889GSM  \n",
       "4          40.53816667-1.568011111GSM  "
      ]
     },
     "execution_count": 10,
     "metadata": {},
     "output_type": "execute_result"
    }
   ],
   "source": [
    "dataPoints.head()"
   ]
  },
  {
   "cell_type": "code",
   "execution_count": 7,
   "metadata": {},
   "outputs": [],
   "source": [
    "data = dataPoints['Longitude, Latitude, Technology, BTSName'.split(', ')]"
   ]
  },
  {
   "cell_type": "code",
   "execution_count": 60,
   "metadata": {},
   "outputs": [],
   "source": [
    "# Getting average long and lat to get the center point for the map\n",
    "# latavg = np.mean(data['Latitude'])\n",
    "# longavg = np.mean(data['Longitude'])\n",
    "# Using specific coords due to imbalanced distribution of data\n",
    "latavg = 0.83\n",
    "longavg = 37.96"
   ]
  },
  {
   "cell_type": "code",
   "execution_count": 73,
   "metadata": {},
   "outputs": [],
   "source": [
    "folMap = Map([latavg, longavg], zoom_start=6.52, tiles='Stamen Terrain', attr='KevinMbugua@Thairu.com')\n",
    "\n",
    "# Specifying color for each technology\n",
    "colors = 'red, green, blue'.split(', ')\n",
    "\n",
    "# Dictionary for each feature group created\n",
    "featGroups = dict() \n",
    "# Create new feature groups for each Technol;ogy using a loop\n",
    "for i, x in enumerate(data.Technology.unique()):\n",
    "    featGroups[x] = FeatureGroup(name=x)\n",
    "    \n",
    "    # Create new markes for a specific feature group using a loop\n",
    "    for y in data.loc[data['Technology']==x].index:\n",
    "        groupIdx = data.iloc[y]\n",
    "        # Create popup string to be displayed\n",
    "        popupInfo = \"{}\\n{}\\n{}, {}\".format(groupIdx['BTSName'],groupIdx['Technology'], \n",
    "                                            groupIdx['Latitude'], groupIdx['Longitude'])\n",
    "        Marker(location=[groupIdx['Latitude'], groupIdx['Longitude']], icon=folium.Icon(color=colors[i]), \n",
    "               tooltip= groupIdx['BTSName'], popup=popupInfo).add_to(featGroups[x])\n",
    "\n",
    "    # Add each feature group to the Map    \n",
    "    featGroups[x].add_to(folMap)\n",
    "    \n",
    "# Enable the layer controls for the 3 Feature Groups\n",
    "LayerControl().add_to(folMap)\n",
    "\n",
    "folMap.save('assignment3.html')"
   ]
  },
  {
   "cell_type": "code",
   "execution_count": null,
   "metadata": {},
   "outputs": [],
   "source": []
  }
 ],
 "metadata": {
  "kernelspec": {
   "display_name": "Python 3",
   "language": "python",
   "name": "python3"
  },
  "language_info": {
   "codemirror_mode": {
    "name": "ipython",
    "version": 3
   },
   "file_extension": ".py",
   "mimetype": "text/x-python",
   "name": "python",
   "nbconvert_exporter": "python",
   "pygments_lexer": "ipython3",
   "version": "3.6.8"
  }
 },
 "nbformat": 4,
 "nbformat_minor": 2
}
